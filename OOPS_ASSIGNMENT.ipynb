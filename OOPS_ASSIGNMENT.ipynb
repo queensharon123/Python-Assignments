{
 "cells": [
  {
   "cell_type": "code",
   "execution_count": 1,
   "id": "adba7851-6925-41a9-88a7-acb52afc0b96",
   "metadata": {},
   "outputs": [
    {
     "name": "stdout",
     "output_type": "stream",
     "text": [
      "CS101: Introduction to Computer Science (3 credit hours) - Required for Major\n",
      "ART200: Art Appreciation (3 credit hours) - Elective Type: liberal arts\n"
     ]
    }
   ],
   "source": [
    "# Exercise 1\n",
    "class Course:\n",
    "    def __init__(self, course_code, course_name, credit_hours):\n",
    "        self.course_code = course_code\n",
    "        self.course_name = course_name\n",
    "        self.credit_hours = credit_hours\n",
    "\n",
    "    def __str__(self):\n",
    "        return f\"{self.course_code}: {self.course_name} ({self.credit_hours} credit hours)\"\n",
    "\n",
    "class CoreCourse(Course):\n",
    "    def __init__(self, course_code, course_name, credit_hours, required_for_major):\n",
    "        super().__init__(course_code, course_name, credit_hours)\n",
    "        self.required_for_major = required_for_major\n",
    "\n",
    "    def __str__(self):\n",
    "        return f\"{super().__str__()} - {'Required' if self.required_for_major else 'Not Required'} for Major\"\n",
    "\n",
    "class ElectiveCourse(Course):\n",
    "    def __init__(self, course_code, course_name, credit_hours, elective_type):\n",
    "        super().__init__(course_code, course_name, credit_hours)\n",
    "        self.elective_type = elective_type\n",
    "\n",
    "    def __str__(self):\n",
    "        return f\"{super().__str__()} - Elective Type: {self.elective_type}\"\n",
    "\n",
    "\n",
    "if __name__ == \"__main__\":\n",
    "    core_course = CoreCourse(\"CS101\", \"Introduction to Computer Science\", 3, True)\n",
    "    elective_course = ElectiveCourse(\"ART200\", \"Art Appreciation\", 3, \"liberal arts\")\n",
    "\n",
    "    print(core_course)\n",
    "    print(elective_course)"
   ]
  },
  {
   "cell_type": "code",
   "execution_count": 11,
   "id": "03e107a8-5801-40fc-b982-67c062175c58",
   "metadata": {},
   "outputs": [
    {
     "name": "stdout",
     "output_type": "stream",
     "text": [
      "Employee Name: Alice Smith\n",
      "Employee Salary: $75000\n"
     ]
    }
   ],
   "source": [
    "#Exercise 2\n",
    "\n",
    "# employee.py\n",
    "class Employee:\n",
    "    \"\"\"A class representing an employee.\"\"\"\n",
    "\n",
    "    def __init__(self, name, salary):\n",
    "        \"\"\"Initialize the Employee with name and salary.\"\"\"\n",
    "        self.name = name\n",
    "        self.salary = salary\n",
    "\n",
    "    def get_name(self):\n",
    "        \"\"\"Return the name of the employee.\"\"\"\n",
    "        return self.name\n",
    "\n",
    "    def get_salary(self):\n",
    "        \"\"\"Return the salary of the employee.\"\"\"\n",
    "        return self.salary\n",
    "\n",
    "\n",
    "if __name__ == \"__main__\":\n",
    "    \n",
    "    emp = Employee(\"Alice Smith\", 75000)\n",
    "\n",
    "    \n",
    "    print(f\"Employee Name: {emp.get_name()}\")   \n",
    "    print(f\"Employee Salary: ${emp.get_salary()}\")  "
   ]
  },
  {
   "cell_type": "code",
   "execution_count": null,
   "id": "1b53bdd5-111d-490a-b692-b4d579847d25",
   "metadata": {},
   "outputs": [],
   "source": []
  }
 ],
 "metadata": {
  "kernelspec": {
   "display_name": "Python [conda env:base] *",
   "language": "python",
   "name": "conda-base-py"
  },
  "language_info": {
   "codemirror_mode": {
    "name": "ipython",
    "version": 3
   },
   "file_extension": ".py",
   "mimetype": "text/x-python",
   "name": "python",
   "nbconvert_exporter": "python",
   "pygments_lexer": "ipython3",
   "version": "3.12.7"
  }
 },
 "nbformat": 4,
 "nbformat_minor": 5
}
