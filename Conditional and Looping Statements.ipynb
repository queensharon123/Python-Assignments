{
 "cells": [
  {
   "cell_type": "code",
   "execution_count": 3,
   "id": "1f4532a5-1554-4064-893a-fd523d9dc765",
   "metadata": {},
   "outputs": [
    {
     "name": "stdin",
     "output_type": "stream",
     "text": [
      "Enter the month:  7\n"
     ]
    },
    {
     "name": "stdout",
     "output_type": "stream",
     "text": [
      "Month 7 is July\n"
     ]
    }
   ],
   "source": [
    "# Exercise 1\n",
    "months = [\n",
    "    \"January\", \"February\", \"March\", \"April\", \"May\", \"June\",\n",
    "    \"July\", \"August\", \"September\", \"October\", \"November\", \"December\"\n",
    "]\n",
    "\n",
    "# Get user input\n",
    "month_number = int(input(\"Enter the month: \"))\n",
    "\n",
    "# Check if the number is within the valid range\n",
    "if 1 <= month_number <= 12:\n",
    "    print(f\"Month {month_number} is {months[month_number - 1]}\")\n",
    "else:\n",
    "    print(\"Please enter value between 1 and 12.\")"
   ]
  },
  {
   "cell_type": "code",
   "execution_count": 5,
   "id": "bcfb7158-5da5-49e3-86dd-fff78beec7d7",
   "metadata": {},
   "outputs": [
    {
     "name": "stdin",
     "output_type": "stream",
     "text": [
      "Enter your age:  23\n"
     ]
    },
    {
     "name": "stdout",
     "output_type": "stream",
     "text": [
      "Your ticket costs £6.00 (you get a adult discount)\n"
     ]
    }
   ],
   "source": [
    "# Exercise 2\n",
    "full_price = 6 \n",
    "half_price_discount = 0.5\n",
    "third_price_discount = 1 / 3\n",
    "senior_discount_name = \"senior\"\n",
    "child_discount_name = \"child\"\n",
    "\n",
    "\n",
    "age = int(input(\"Enter your age: \"))\n",
    "\n",
    "\n",
    "if age < 16:\n",
    "    discount_name = child_discount_name\n",
    "    ticket_cost = full_price * half_price_discount\n",
    "elif age >= 60:\n",
    "    discount_name = senior_discount_name\n",
    "    ticket_cost = full_price * third_price_discount\n",
    "else:\n",
    "    discount_name = \"adult\"\n",
    "    ticket_cost = full_price\n",
    "\n",
    "\n",
    "print(f\"Your ticket costs £{ticket_cost:.2f} (you get a {discount_name} discount)\")"
   ]
  },
  {
   "cell_type": "code",
   "execution_count": 7,
   "id": "d3a3739a-3a73-42e6-8e0e-39249a7c6e32",
   "metadata": {},
   "outputs": [
    {
     "name": "stdin",
     "output_type": "stream",
     "text": [
      "Enter your weight in (kg):  55\n",
      "Enter your height in (m):  5.5\n"
     ]
    },
    {
     "name": "stdout",
     "output_type": "stream",
     "text": [
      "Your BMI is: 1.82\n",
      "You are in the “Underweight” range.\n"
     ]
    }
   ],
   "source": [
    "# Exercise 3\n",
    "def calculate_bmi(weight, height):\n",
    "    return weight / (height ** 2)\n",
    "\n",
    "def determine_weight_status(bmi):\n",
    "    if bmi < 18.5:\n",
    "        return \"Underweight\"\n",
    "    elif 18.5 <= bmi < 25:\n",
    "        return \"Normal\"\n",
    "    elif 25 <= bmi < 30:\n",
    "        return \"Overweight\"\n",
    "    else:\n",
    "        return \"Obese\"\n",
    "\n",
    "\n",
    "weight = float(input(\"Enter your weight in (kg): \"))\n",
    "height = float(input(\"Enter your height in (m): \"))\n",
    "\n",
    "bmi = calculate_bmi(weight, height)\n",
    "\n",
    "\n",
    "weight_status = determine_weight_status(bmi)\n",
    "\n",
    "print(f\"Your BMI is: {bmi:.2f}\")\n",
    "print(f\"You are in the “{weight_status}” range.\")"
   ]
  },
  {
   "cell_type": "code",
   "execution_count": 9,
   "id": "f685cbc3-f51c-4e9b-a545-620098292d68",
   "metadata": {},
   "outputs": [
    {
     "name": "stdin",
     "output_type": "stream",
     "text": [
      "Enter the first number:  3\n",
      "Enter the second number:  44\n",
      "Enter the third number:  5\n"
     ]
    },
    {
     "name": "stdout",
     "output_type": "stream",
     "text": [
      "The greatest number among 3.0, 44.0, and 5.0 is: 44.0\n"
     ]
    }
   ],
   "source": [
    "# Exercise 4\n",
    "def find_greatest(num1, num2, num3):\n",
    "    return max(num1, num2, num3)\n",
    "\n",
    "# Get user input for three numbers\n",
    "num1 = float(input(\"Enter the first number: \"))\n",
    "num2 = float(input(\"Enter the second number: \"))\n",
    "num3 = float(input(\"Enter the third number: \"))\n",
    "greatest = find_greatest(num1, num2, num3)\n",
    "print(f\"The greatest number among {num1}, {num2}, and {num3} is: {greatest}\")"
   ]
  },
  {
   "cell_type": "code",
   "execution_count": 27,
   "id": "4e7d5eb0-50ac-4a6c-9b40-c8379fa75023",
   "metadata": {},
   "outputs": [
    {
     "name": "stdin",
     "output_type": "stream",
     "text": [
      "Enter the number:  -9\n"
     ]
    },
    {
     "name": "stdout",
     "output_type": "stream",
     "text": [
      "The factorial of -9 is 1\n"
     ]
    }
   ],
   "source": [
    "# Exercise 5\n",
    "num = int(input(\"Enter the number: \"))\n",
    "factorial = 1\n",
    "for i in range(1, num + 1):\n",
    "    factorial *= i\n",
    "print(f\"The factorial of {num} is {factorial}\")"
   ]
  },
  {
   "cell_type": "code",
   "execution_count": 29,
   "id": "50aee4be-3bec-4643-bec3-813338d623ad",
   "metadata": {},
   "outputs": [
    {
     "name": "stdin",
     "output_type": "stream",
     "text": [
      "Enter a number to reverse:  23\n"
     ]
    },
    {
     "name": "stdout",
     "output_type": "stream",
     "text": [
      "The reversed number is: 32\n"
     ]
    }
   ],
   "source": [
    "# Exercise 6\n",
    "def reverse_number(num):\n",
    "    reversed_num = 0\n",
    "    while num > 0:\n",
    "        digit = num % 10 \n",
    "        reversed_num = (reversed_num * 10) + digit \n",
    "        num //= 10  \n",
    "    return reversed_num\n",
    "\n",
    "number = int(input(\"Enter a number to reverse: \"))\n",
    "reversed_number = reverse_number(number)\n",
    "print(f\"The reversed number is: {reversed_number}\")"
   ]
  },
  {
   "cell_type": "code",
   "execution_count": 31,
   "id": "f69d4786-2621-4f89-a1ae-01606614ebdb",
   "metadata": {},
   "outputs": [
    {
     "name": "stdin",
     "output_type": "stream",
     "text": [
      "Enter a number to find its multiples:  55\n",
      "How many multiples do you want to find:  4\n"
     ]
    },
    {
     "name": "stdout",
     "output_type": "stream",
     "text": [
      "The first 4 multiples of 55 are: [55, 110, 165, 220]\n"
     ]
    }
   ],
   "source": [
    "# Exercise 7\n",
    "def find_multiples(num, count):\n",
    "    multiples = []\n",
    "    i = 1\n",
    "    while i <= count:\n",
    "        multiples.append(num * i) \n",
    "        i += 1  \n",
    "    return multiples\n",
    "\n",
    "number = int(input(\"Enter a number to find its multiples: \"))\n",
    "count_of_multiples = int(input(\"How many multiples do you want to find: \"))\n",
    "\n",
    "multiples_of_number = find_multiples(number, count_of_multiples)\n",
    "\n",
    "print(f\"The first {count_of_multiples} multiples of {number} are: {multiples_of_number}\")"
   ]
  },
  {
   "cell_type": "code",
   "execution_count": 37,
   "id": "618fc98c-d6e5-4fc0-8e65-6c98981c13ac",
   "metadata": {},
   "outputs": [
    {
     "name": "stdin",
     "output_type": "stream",
     "text": [
      ":  hello there\n"
     ]
    },
    {
     "name": "stdout",
     "output_type": "stream",
     "text": [
      "hello there\n"
     ]
    },
    {
     "name": "stdin",
     "output_type": "stream",
     "text": [
      ":  finished\n"
     ]
    },
    {
     "name": "stdout",
     "output_type": "stream",
     "text": [
      "finished\n"
     ]
    },
    {
     "name": "stdin",
     "output_type": "stream",
     "text": [
      ":  done\n"
     ]
    },
    {
     "name": "stdout",
     "output_type": "stream",
     "text": [
      "Done\n"
     ]
    }
   ],
   "source": [
    "# Exercise 8\n",
    "while True:\n",
    "    user_input = input(\": \")\n",
    "    if user_input.lower() == 'done':\n",
    "        print(\"Done\")\n",
    "        break\n",
    "    print(user_input)"
   ]
  },
  {
   "cell_type": "code",
   "execution_count": 41,
   "id": "5bf0f93d-5341-4fff-9e9c-b1c5d8af5134",
   "metadata": {},
   "outputs": [
    {
     "name": "stdout",
     "output_type": "stream",
     "text": [
      "1\n",
      "2\n",
      "Fizz\n",
      "4\n",
      "Buzz\n",
      "Fizz\n",
      "7\n",
      "8\n",
      "Fizz\n",
      "Buzz\n"
     ]
    }
   ],
   "source": [
    "# Exercise 9\n",
    "for num in range(1, 11):\n",
    "    if num % 3 == 0 and num % 5 == 0:\n",
    "        print(\"FizzBuzz\")\n",
    "    elif num % 3 == 0:\n",
    "        print(\"Fizz\")\n",
    "    elif num % 5 == 0:\n",
    "        print(\"Buzz\")\n",
    "    else:\n",
    "        print(num)"
   ]
  },
  {
   "cell_type": "code",
   "execution_count": 43,
   "id": "c6e8c613-998e-4ee8-beec-2873a30d4d4e",
   "metadata": {},
   "outputs": [
    {
     "name": "stdout",
     "output_type": "stream",
     "text": [
      "5 4 3 2 1 \n",
      "4 3 2 1 \n",
      "3 2 1 \n",
      "2 1 \n",
      "1 \n"
     ]
    }
   ],
   "source": [
    "# Exercise 10\n",
    "for i in range(5, 0, -1):\n",
    "    for j in range(i, 0, -1):\n",
    "        print(j, end=\" \")\n",
    "    print()"
   ]
  },
  {
   "cell_type": "code",
   "execution_count": null,
   "id": "7183cf0c-344d-4c2a-8e6d-88831d5ff917",
   "metadata": {},
   "outputs": [],
   "source": []
  }
 ],
 "metadata": {
  "kernelspec": {
   "display_name": "Python [conda env:base] *",
   "language": "python",
   "name": "conda-base-py"
  },
  "language_info": {
   "codemirror_mode": {
    "name": "ipython",
    "version": 3
   },
   "file_extension": ".py",
   "mimetype": "text/x-python",
   "name": "python",
   "nbconvert_exporter": "python",
   "pygments_lexer": "ipython3",
   "version": "3.12.7"
  }
 },
 "nbformat": 4,
 "nbformat_minor": 5
}
