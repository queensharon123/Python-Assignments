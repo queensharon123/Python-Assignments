{
 "cells": [
  {
   "cell_type": "code",
   "execution_count": 6,
   "id": "e30352cb-3905-49c9-a728-2694fc6ca87b",
   "metadata": {},
   "outputs": [
    {
     "name": "stdout",
     "output_type": "stream",
     "text": [
      "File Handling.\n"
     ]
    }
   ],
   "source": [
    "# Exercise 1\n",
    "\n",
    "filename = r\"C:\\Users\\Sharon\\Downloads\\FileException.txt\"\n",
    "message = \"File Handling.\"\n",
    "\n",
    "\n",
    "file = open(filename, 'w')\n",
    "file.write(message)\n",
    "file.close()\n",
    "\n",
    "\n",
    "file = open(filename, 'r')\n",
    "content = file.read()\n",
    "file.close()\n",
    "\n",
    "print(content)"
   ]
  },
  {
   "cell_type": "code",
   "execution_count": 10,
   "id": "43619315-f3d2-4e02-8d83-44fb48959d2d",
   "metadata": {},
   "outputs": [
    {
     "name": "stdout",
     "output_type": "stream",
     "text": [
      "Contents copied from 'C:\\Users\\Sharon\\Downloads\\FileException.txt' to 'C:\\Users\\Sharon\\Downloads\\FileHandling.txt'.\n",
      "File Handling.\n"
     ]
    }
   ],
   "source": [
    "# Exercise 2\n",
    "\n",
    "source_filename = r\"C:\\Users\\Sharon\\Downloads\\FileException.txt\"  \n",
    "destination_filename = r\"C:\\Users\\Sharon\\Downloads\\FileHandling.txt\"  \n",
    "\n",
    "\n",
    "source_file = open(source_filename, 'r')\n",
    "content = source_file.read()\n",
    "source_file.close()\n",
    "\n",
    "\n",
    "destination_file = open(destination_filename, 'w')\n",
    "destination_file.write(content)\n",
    "destination_file.close()\n",
    "\n",
    "\n",
    "print(\"Contents copied from '{}' to '{}'.\".format(source_filename, destination_filename))\n",
    "print(content)\n"
   ]
  },
  {
   "cell_type": "code",
   "execution_count": 14,
   "id": "e9d9e715-bfe4-43d6-a7a6-b3c65d3fd01f",
   "metadata": {},
   "outputs": [
    {
     "name": "stdout",
     "output_type": "stream",
     "text": [
      "Total number of words in the file 'C:\\Users\\Sharon\\Downloads\\FileException.txt': 2\n"
     ]
    }
   ],
   "source": [
    "# Exercise 3\n",
    "\n",
    "filename = r\"C:\\Users\\Sharon\\Downloads\\FileException.txt\"  \n",
    "\n",
    "file = open(filename, 'r')\n",
    "content = file.read()\n",
    "file.close()\n",
    "\n",
    "word_count = len(content.split())\n",
    "\n",
    "print(\"Total number of words in the file '{}': {}\".format(filename, word_count))"
   ]
  },
  {
   "cell_type": "code",
   "execution_count": 20,
   "id": "c2ef04b6-d75a-41ca-9188-2567ff881849",
   "metadata": {},
   "outputs": [
    {
     "name": "stdin",
     "output_type": "stream",
     "text": [
      "Please enter a number:  tt\n"
     ]
    },
    {
     "name": "stdout",
     "output_type": "stream",
     "text": [
      "Error: The input is not a valid integer.\n"
     ]
    }
   ],
   "source": [
    "# Exercise 4\n",
    "user_input = input(\"Please enter a number: \")\n",
    "\n",
    "try:\n",
    "    number = int(user_input)\n",
    "    print(\"The converted integer is:\", number)\n",
    "except ValueError:\n",
    "    print(\"Error: The input is not a valid integer.\")\n",
    "except Exception as e:\n",
    "    print(\"An unexpected error occurred:\", str(e))"
   ]
  },
  {
   "cell_type": "code",
   "execution_count": 26,
   "id": "c26c1859-cb02-41a2-91e8-132ccd341932",
   "metadata": {},
   "outputs": [
    {
     "name": "stdin",
     "output_type": "stream",
     "text": [
      "Please enter a list of integers separated by spaces:  2 4 6 7 8 \n"
     ]
    },
    {
     "name": "stdout",
     "output_type": "stream",
     "text": [
      "The list of integers is: [2, 4, 6, 7, 8]\n"
     ]
    }
   ],
   "source": [
    "# Exercise 5\n",
    "def get_integer_list():\n",
    "    \n",
    "    user_input = input(\"Please enter a list of integers separated by spaces: \")\n",
    "    \n",
    "    \n",
    "    string_numbers = user_input.split()\n",
    "    \n",
    "    \n",
    "    integer_list = []\n",
    "    \n",
    "    \n",
    "    try:\n",
    "        for num_str in string_numbers:\n",
    "            number = int(num_str)  \n",
    "            \n",
    "            \n",
    "            if number < 0:\n",
    "                raise ValueError(\"Negative integers are not allowed.\")\n",
    "            \n",
    "            \n",
    "            integer_list.append(number)\n",
    "        \n",
    "        print(\"The list of integers is:\", integer_list)\n",
    "    \n",
    "    except ValueError as e:\n",
    "        print(\"Error:\", str(e))\n",
    "    except Exception as e:\n",
    "        print(\"An unexpected error occurred:\", str(e))\n",
    "\n",
    "\n",
    "get_integer_list()"
   ]
  },
  {
   "cell_type": "code",
   "execution_count": 28,
   "id": "d4adb0ab-a48c-4ecc-880a-73d8b4b959ae",
   "metadata": {},
   "outputs": [
    {
     "name": "stdin",
     "output_type": "stream",
     "text": [
      "Please enter a list of integers separated by spaces:  2 3 4 7 8 \n"
     ]
    },
    {
     "name": "stdout",
     "output_type": "stream",
     "text": [
      "The average of the entered integers is: 4.8\n",
      "The program has finished running.\n"
     ]
    }
   ],
   "source": [
    "# Exercise 6\n",
    "def calculate_average():\n",
    "    try:\n",
    "        \n",
    "        user_input = input(\"Please enter a list of integers separated by spaces: \")\n",
    "        \n",
    "        \n",
    "        string_numbers = user_input.split()\n",
    "        \n",
    "        \n",
    "        integer_list = [int(num_str) for num_str in string_numbers]\n",
    "        \n",
    "        \n",
    "        if len(integer_list) == 0:\n",
    "            raise ValueError(\"The list is empty. Please enter at least one integer.\")\n",
    "        \n",
    "        average = sum(integer_list) / len(integer_list)\n",
    "        \n",
    "        \n",
    "        print(\"The average of the entered integers is:\", average)\n",
    "    \n",
    "    except ValueError as e:\n",
    "        print(\"Error:\", str(e))\n",
    "    except Exception as e:\n",
    "        print(\"An unexpected error occurred:\", str(e))\n",
    "    \n",
    "    finally:\n",
    "        print(\"The program has finished running.\")\n",
    "\n",
    "\n",
    "calculate_average()"
   ]
  },
  {
   "cell_type": "code",
   "execution_count": 30,
   "id": "07b37b9c-30d1-4191-b28f-2c6d11ad4834",
   "metadata": {},
   "outputs": [
    {
     "name": "stdin",
     "output_type": "stream",
     "text": [
      "Please enter the filename (including .txt extension):  C:\\Users\\Sharon\\Downloads\\FileException.txt\n"
     ]
    },
    {
     "name": "stdout",
     "output_type": "stream",
     "text": [
      "File written successfully!\n",
      "Welcome! Your content has been successfully written to the file.\n"
     ]
    }
   ],
   "source": [
    "# Exercise 7\n",
    "def write_to_file():\n",
    "    try:\n",
    "        \n",
    "        filename = input(\"Please enter the filename (including .txt extension): \")\n",
    "        \n",
    "        \n",
    "        content = \"Welcome to the Python file writing program!\"\n",
    "        \n",
    "        \n",
    "        with open(filename, 'w') as file:\n",
    "            file.write(content)\n",
    "        \n",
    "        \n",
    "        print(\"File written successfully!\")\n",
    "    \n",
    "    except FileNotFoundError:\n",
    "        print(\"Error: The specified file path does not exist.\")\n",
    "    except PermissionError:\n",
    "        print(\"Error: You do not have permission to write to this file.\")\n",
    "    except Exception as e:\n",
    "        print(\"An unexpected error occurred:\", str(e))\n",
    "    \n",
    "    else:\n",
    "        \n",
    "        print(\"Welcome! Your content has been successfully written to the file.\")\n",
    "\n",
    "\n",
    "write_to_file()"
   ]
  },
  {
   "cell_type": "code",
   "execution_count": null,
   "id": "bbcfcbec-3a1e-45d8-869f-8190689e47d4",
   "metadata": {},
   "outputs": [],
   "source": []
  }
 ],
 "metadata": {
  "kernelspec": {
   "display_name": "Python [conda env:base] *",
   "language": "python",
   "name": "conda-base-py"
  },
  "language_info": {
   "codemirror_mode": {
    "name": "ipython",
    "version": 3
   },
   "file_extension": ".py",
   "mimetype": "text/x-python",
   "name": "python",
   "nbconvert_exporter": "python",
   "pygments_lexer": "ipython3",
   "version": "3.12.7"
  }
 },
 "nbformat": 4,
 "nbformat_minor": 5
}
