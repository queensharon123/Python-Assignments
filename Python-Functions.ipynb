{
 "cells": [
  {
   "cell_type": "code",
   "execution_count": 1,
   "id": "cf8992d7-fbed-4a9b-9183-93ebf405da12",
   "metadata": {},
   "outputs": [
    {
     "name": "stdout",
     "output_type": "stream",
     "text": [
      "8\n"
     ]
    }
   ],
   "source": [
    "# Exercise 1\n",
    " # len() returns the number of elements in an object passed to the function\n",
    "list = [1,2,3,4,5,6,7,8]\n",
    "print(len(list))"
   ]
  },
  {
   "cell_type": "code",
   "execution_count": 9,
   "id": "2178c78e-a162-4d59-9508-f0427a25a178",
   "metadata": {},
   "outputs": [
    {
     "name": "stdin",
     "output_type": "stream",
     "text": [
      "Enter Name:  Ginukuttan\n"
     ]
    },
    {
     "name": "stdout",
     "output_type": "stream",
     "text": [
      "Hello,[Ginukuttan]!\n"
     ]
    }
   ],
   "source": [
    "# Exercise 2\n",
    "name = input(\"Enter Name: \")\n",
    "print (f\"Hello,[{name}]!\")\n",
    "\n",
    "# \"Hello, [name]!\"."
   ]
  },
  {
   "cell_type": "code",
   "execution_count": 13,
   "id": "4087c939-3a79-451f-8a50-05918258c5cb",
   "metadata": {},
   "outputs": [
    {
     "name": "stdout",
     "output_type": "stream",
     "text": [
      "7\n"
     ]
    }
   ],
   "source": [
    "#  Exercise 3\n",
    "def find_maximum(numbers):\n",
    "    number = numbers[0]\n",
    "    for i in numbers:\n",
    "        if i>number:\n",
    "           number = i\n",
    "    return number\n",
    "    \n",
    "numbers = [1,2,3,4,5,6,7]\n",
    "m = find_maximum(numbers)\n",
    "print(m)\n"
   ]
  },
  {
   "cell_type": "code",
   "execution_count": 5,
   "id": "4f2b6182-7c1a-43dc-b92b-486c7f0c452f",
   "metadata": {},
   "outputs": [
    {
     "name": "stdout",
     "output_type": "stream",
     "text": [
      "Value of Local count:  10\n",
      "Value of global count:  5\n"
     ]
    }
   ],
   "source": [
    "# Exercise 4\n",
    "#Local Variables:\n",
    "#Local variables are those that are defined inside a function. \n",
    "#They are accessible and can be modified within the function where \n",
    "#they are declared. When a local variable is created, \n",
    "#Python assigns it a scope that is local to the function where it was declared.\n",
    "\n",
    "# Global Variables\n",
    "#Global variables are variables that are defined outside any function and \n",
    "#are accessible throughout the entire script. Any changes made to a global \n",
    "#variable within a function will affect the original value of the variable \n",
    "#in the outer scope.\n",
    "\n",
    "count = 5\n",
    "def count_value_local():\n",
    "    count = 10\n",
    "    print(\"Value of Local count: \",count)\n",
    "\n",
    "def count_value_global():\n",
    "    print(\"Value of global count: \",count)\n",
    "\n",
    "count_value_local()\n",
    "count_value_global()\n"
   ]
  },
  {
   "cell_type": "code",
   "execution_count": 9,
   "id": "93e2779f-add4-4c26-b62c-abfb6bdec039",
   "metadata": {},
   "outputs": [
    {
     "name": "stdout",
     "output_type": "stream",
     "text": [
      "Area when length is provided:  25\n",
      "Area when length and width is provided:  125\n"
     ]
    }
   ],
   "source": [
    "# Exercise 5\n",
    "def calculate_area(length, width=5):\n",
    "    return length*width\n",
    "\n",
    "print(\"Area when length is provided: \",calculate_area(5))\n",
    "print(\"Area when length and width is provided: \",calculate_area(25,5))"
   ]
  },
  {
   "cell_type": "code",
   "execution_count": null,
   "id": "b5a1041b-5f62-40a8-bb47-d930bd8ca816",
   "metadata": {},
   "outputs": [],
   "source": []
  }
 ],
 "metadata": {
  "kernelspec": {
   "display_name": "Python [conda env:base] *",
   "language": "python",
   "name": "conda-base-py"
  },
  "language_info": {
   "codemirror_mode": {
    "name": "ipython",
    "version": 3
   },
   "file_extension": ".py",
   "mimetype": "text/x-python",
   "name": "python",
   "nbconvert_exporter": "python",
   "pygments_lexer": "ipython3",
   "version": "3.12.7"
  }
 },
 "nbformat": 4,
 "nbformat_minor": 5
}
