{
 "cells": [
  {
   "cell_type": "code",
   "execution_count": 4,
   "id": "a73c64b5-eb3d-48ef-9688-19fd7f5176da",
   "metadata": {},
   "outputs": [
    {
     "name": "stdout",
     "output_type": "stream",
     "text": [
      "[[ 1  2  3  4  5]\n",
      " [ 6  7  8  9 10]]\n"
     ]
    }
   ],
   "source": [
    "# Exercise 1\n",
    "import numpy as np\n",
    "\n",
    "array = np.arange(1, 11)\n",
    "reshaped_array = array.reshape(2, 5)\n",
    "print(reshaped_array)"
   ]
  },
  {
   "cell_type": "code",
   "execution_count": 10,
   "id": "7610d046-0138-4e49-b408-ef40e643fb8f",
   "metadata": {},
   "outputs": [
    {
     "name": "stdout",
     "output_type": "stream",
     "text": [
      "[ 6  7  8  9 10 11 12 13 14 15]\n"
     ]
    }
   ],
   "source": [
    "# Exercise 2\n",
    "import numpy as np\n",
    "\n",
    "array = np.arange(1, 21)\n",
    "extracted_elements = array[5:15]\n",
    "print(extracted_elements)"
   ]
  },
  {
   "cell_type": "code",
   "execution_count": 12,
   "id": "2ddd1803-f30a-4b79-979e-166b8b97df77",
   "metadata": {},
   "outputs": [
    {
     "name": "stdout",
     "output_type": "stream",
     "text": [
      "apples     3\n",
      "bananas    2\n",
      "oranges    1\n",
      "pears      4\n",
      "dtype: int64\n"
     ]
    }
   ],
   "source": [
    "# Exercise 3\n",
    "import pandas as pd\n",
    "\n",
    "data = {'apples': 3, 'bananas': 2, 'oranges': 1}\n",
    "series = pd.Series(data)\n",
    "series['pears'] = 4\n",
    "print(series)"
   ]
  },
  {
   "cell_type": "code",
   "execution_count": 14,
   "id": "57b5fa6c-8bde-4401-a522-519e78bb208c",
   "metadata": {},
   "outputs": [
    {
     "name": "stdout",
     "output_type": "stream",
     "text": [
      "       name  age  gender\n",
      "0      Arya   24  Female\n",
      "1     Binoy   30    Male\n",
      "2   Charlie   22    Male\n",
      "3     David   35    Male\n",
      "4      Edna   29  Female\n",
      "5  Franklin   31    Male\n",
      "6     Grace   26  Female\n",
      "7     Hanna   27  Female\n",
      "8     Isaac   32    Male\n",
      "9      Jack   28    Male\n"
     ]
    }
   ],
   "source": [
    "# Exercise 4\n",
    "import pandas as pd\n",
    "\n",
    "# Create a dictionary with the data\n",
    "data = {\n",
    "    'name': ['Arya', 'Binoy', 'Charlie', 'David', 'Edna', 'Franklin', 'Grace', 'Hanna', 'Isaac', 'Jack'],\n",
    "    'age': [24, 30, 22, 35, 29, 31, 26, 27, 32, 28],\n",
    "    'gender': ['Female', 'Male', 'Male', 'Male', 'Female', 'Male', 'Female', 'Female', 'Male', 'Male']\n",
    "}\n",
    "df = pd.DataFrame(data)\n",
    "print(df)"
   ]
  },
  {
   "cell_type": "code",
   "execution_count": 20,
   "id": "b5997e90-7a59-4239-993a-4dccd84fa79e",
   "metadata": {},
   "outputs": [
    {
     "name": "stdout",
     "output_type": "stream",
     "text": [
      "       name  age  gender  occupation\n",
      "0      Arya   24  Female  Programmer\n",
      "1     Binoy   30    Male     Manager\n",
      "2   Charlie   22    Male     Analyst\n",
      "3     David   35    Male     Manager\n",
      "4      Edna   29  Female  Programmer\n",
      "5  Franklin   31    Male     Analyst\n",
      "6     Grace   26  Female  Programmer\n",
      "7     Hanna   27  Female     Manager\n",
      "8     Isaac   32    Male     Analyst\n",
      "9      Jack   28    Male  Programmer\n"
     ]
    }
   ],
   "source": [
    "# Exercise 5\n",
    "import pandas as pd\n",
    "data = {\n",
    "    'name': ['Arya', 'Binoy', 'Charlie', 'David', 'Edna', 'Franklin', 'Grace', 'Hanna', 'Isaac', 'Jack'],\n",
    "    'age': [24, 30, 22, 35, 29, 31, 26, 27, 32, 28],\n",
    "    'gender': ['Female', 'Male', 'Male', 'Male', 'Female', 'Male', 'Female', 'Female', 'Male', 'Male']\n",
    "}\n",
    "df = pd.DataFrame(data)\n",
    "df['occupation'] = ['Programmer', 'Manager', 'Analyst', 'Manager', 'Programmer',\n",
    "                    'Analyst', 'Programmer', 'Manager', 'Analyst', 'Programmer']\n",
    "print(df)"
   ]
  },
  {
   "cell_type": "code",
   "execution_count": 18,
   "id": "0c470c15-798d-4821-8f4a-443de39aaad1",
   "metadata": {},
   "outputs": [
    {
     "name": "stdout",
     "output_type": "stream",
     "text": [
      "    name  age gender occupation\n",
      "1    Bob   30   Male    Manager\n",
      "3  David   35   Male    Manager\n",
      "5  Frank   31   Male    Analyst\n",
      "8  Isaac   32   Male    Analyst\n"
     ]
    }
   ],
   "source": [
    "# Exercise 5\n",
    "import pandas as pd\n",
    "\n",
    "data = {\n",
    "    'name': ['Arya', 'Binoy', 'Charlie', 'David', 'Edna', 'Franklin', 'Grace', 'Hanna', 'Isaac', 'Jack'],\n",
    "    'age': [24, 30, 22, 35, 29, 31, 26, 27, 32, 28],\n",
    "    'gender': ['Female', 'Male', 'Male', 'Male', 'Female', 'Male', 'Female', 'Female', 'Male', 'Male'],\n",
    "    'occupation': ['Programmer', 'Manager', 'Analyst', 'Manager', 'Programmer',\n",
    "                   'Analyst', 'Programmer', 'Manager', 'Analyst', 'Programmer']\n",
    "}\n",
    "df = pd.DataFrame(data)\n",
    "filtered_df = df[df['age'] >= 30]\n",
    "print(filtered_df)"
   ]
  },
  {
   "cell_type": "code",
   "execution_count": 22,
   "id": "d87b237f-872b-45c6-b53a-480053e23825",
   "metadata": {},
   "outputs": [
    {
     "name": "stdout",
     "output_type": "stream",
     "text": [
      "      name  age  gender  occupation\n",
      "0    Alice   24  Female  Programmer\n",
      "1      Bob   30    Male     Manager\n",
      "2  Charlie   22    Male     Analyst\n",
      "3    David   35    Male     Manager\n",
      "4      Eva   29  Female  Programmer\n",
      "5    Frank   31    Male     Analyst\n",
      "6    Grace   26  Female  Programmer\n",
      "7   Hannah   27  Female     Manager\n",
      "8    Isaac   32    Male     Analyst\n",
      "9     Jack   28    Male  Programmer\n"
     ]
    }
   ],
   "source": [
    "# Exercise 6\n",
    "import pandas as pd\n",
    "\n",
    "data = {\n",
    "    'name': ['Arya', 'Binoy', 'Charlie', 'David', 'Edna', 'Franklin', 'Grace', 'Hanna', 'Isaac', 'Jack'],\n",
    "    'age': [24, 30, 22, 35, 29, 31, 26, 27, 32, 28],\n",
    "    'gender': ['Female', 'Male', 'Male', 'Male', 'Female', 'Male', 'Female', 'Female', 'Male', 'Male'],\n",
    "    'occupation': ['Programmer', 'Manager', 'Analyst', 'Manager', 'Programmer',\n",
    "                   'Analyst', 'Programmer', 'Manager', 'Analyst', 'Programmer']\n",
    "}\n",
    "df = pd.DataFrame(data)\n",
    "csv_file_path = 'people_data.csv'  \n",
    "df.to_csv(csv_file_path, index=False) \n",
    "loaded_df = pd.read_csv(csv_file_path)\n",
    "print(loaded_df)"
   ]
  },
  {
   "cell_type": "code",
   "execution_count": null,
   "id": "e0ad1ef4-c6e4-4767-a86f-2835daa3e28c",
   "metadata": {},
   "outputs": [],
   "source": []
  }
 ],
 "metadata": {
  "kernelspec": {
   "display_name": "Python [conda env:base] *",
   "language": "python",
   "name": "conda-base-py"
  },
  "language_info": {
   "codemirror_mode": {
    "name": "ipython",
    "version": 3
   },
   "file_extension": ".py",
   "mimetype": "text/x-python",
   "name": "python",
   "nbconvert_exporter": "python",
   "pygments_lexer": "ipython3",
   "version": "3.12.7"
  }
 },
 "nbformat": 4,
 "nbformat_minor": 5
}
