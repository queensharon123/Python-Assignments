{
 "cells": [
  {
   "cell_type": "code",
   "execution_count": 4,
   "id": "4247affa-c526-4f20-a740-e774c1024822",
   "metadata": {},
   "outputs": [
    {
     "name": "stdout",
     "output_type": "stream",
     "text": [
      "Bob\n",
      "ST1001\n",
      "bob@gmail.com\n"
     ]
    }
   ],
   "source": [
    "# Exercise 1  \n",
    "print(\"Bob\")\n",
    "print(\"ST1001\")\n",
    "print(\"bob@gmail.com\")"
   ]
  },
  {
   "cell_type": "code",
   "execution_count": 10,
   "id": "bd8945be-caef-4001-9730-71e51ce024b9",
   "metadata": {},
   "outputs": [
    {
     "name": "stdout",
     "output_type": "stream",
     "text": [
      " Bob \n",
      " ST1001 \n",
      " bob@gmail.com \n",
      "\n"
     ]
    }
   ],
   "source": [
    "# Exercise 2\n",
    "print(\" Bob\",\"\\n\",\"ST1001\",\"\\n\",\"bob@gmail.com\",\"\\n\")"
   ]
  },
  {
   "cell_type": "code",
   "execution_count": 18,
   "id": "0b0e47fe-206d-490b-89ff-77c185f8d316",
   "metadata": {},
   "outputs": [
    {
     "name": "stdout",
     "output_type": "stream",
     "text": [
      "14 + 7 = 21\n",
      "14 * 7 = 98\n",
      "14 - 7 = 7\n",
      "14 / 7 = 2.0\n"
     ]
    }
   ],
   "source": [
    "# Exercise 3\n",
    "m = 14\n",
    "n = 7\n",
    "print(\"14 + 7 =\",m+n)\n",
    "print(\"14 * 7 =\",m*n)\n",
    "print(\"14 - 7 =\",m-n)\n",
    "print(\"14 / 7 =\",m/n)"
   ]
  },
  {
   "cell_type": "code",
   "execution_count": 24,
   "id": "ee0d48af-4fe5-4f52-97f0-be2c24b1f757",
   "metadata": {},
   "outputs": [
    {
     "name": "stdout",
     "output_type": "stream",
     "text": [
      "1\n",
      "2\n",
      "3\n",
      "4\n",
      "5\n"
     ]
    }
   ],
   "source": [
    "# Exercise 4\n",
    "print(1)\n",
    "print(2)\n",
    "print(3)\n",
    "print(4)\n",
    "print(5)\n"
   ]
  },
  {
   "cell_type": "code",
   "execution_count": 30,
   "id": "681e88b7-7eb4-432a-aee6-b7978f20bdd0",
   "metadata": {},
   "outputs": [
    {
     "name": "stdout",
     "output_type": "stream",
     "text": [
      "\"SDK\" stands for \"Software Development Kit\", whereas\n",
      "\"IDE\" stands for \"Integrated Development Environment\".\n"
     ]
    }
   ],
   "source": [
    "# Exercise 5\n",
    "print(\"\\\"SDK\\\" stands for \\\"Software Development Kit\\\", whereas\")\n",
    "print(\"\\\"IDE\\\" stands for \\\"Integrated Development Environment\\\".\")"
   ]
  },
  {
   "cell_type": "code",
   "execution_count": 1,
   "id": "30f93665-5d80-4ace-80bd-14757c7df044",
   "metadata": {},
   "outputs": [
    {
     "name": "stdout",
     "output_type": "stream",
     "text": [
      "python is an \"awesome\" language.\n",
      "python\n",
      "\t2023\n",
      "I'm from Entri\n",
      "5\n",
      "e\n",
      "Entri\n",
      "2023\n",
      "Entr2023\n",
      "Entri*20"
     ]
    }
   ],
   "source": [
    "# Exercise 6\n",
    "print(\"python is an \\\"awesome\\\" language.\")\n",
    "print(\"python\\n\\t2023\")\n",
    "print('I\\'m from Entri.\\b')\n",
    "print(\"\\65\")\n",
    "print(\"\\x65\")\n",
    "print(\"Entri\", \"2023\", sep=\"\\n\")\n",
    "print(\"Entri\", \"2023\", sep=\"\\b\")\n",
    "print(\"Entri\", \"2023\", sep=\"*\", end=\"\\b\\b\\b\\b\")\n"
   ]
  },
  {
   "cell_type": "code",
   "execution_count": 19,
   "id": "3be6424c-4f9b-4c4c-b191-b84ed7099d66",
   "metadata": {},
   "outputs": [
    {
     "name": "stdout",
     "output_type": "stream",
     "text": [
      "<class 'int'>\n",
      "<class 'str'>\n",
      "<class 'float'>\n",
      "SUM =  178.3\n",
      "<class 'float'>\n"
     ]
    }
   ],
   "source": [
    "# Exercise 7\n",
    "num=23\n",
    "textnum=\"57\"\n",
    "decimal=98.3\n",
    "print(type(num))\n",
    "print(type(textnum))\n",
    "print(type(decimal))\n",
    "\n",
    "textnum_to_int = int(textnum)\n",
    "summ = num + textnum_to_int + decimal\n",
    "print(\"SUM = \", summ)\n",
    "print(type(summ))"
   ]
  },
  {
   "cell_type": "code",
   "execution_count": 21,
   "id": "a670dbd8-8d62-4ba0-9df8-8dbcf4e41501",
   "metadata": {},
   "outputs": [
    {
     "name": "stdout",
     "output_type": "stream",
     "text": [
      "Total minutes in a year:  525600\n"
     ]
    }
   ],
   "source": [
    "# Exercise 8\n",
    "# Defining the variables\n",
    "days_in_a_year = 365\n",
    "hours_in_a_day = 24\n",
    "minutes_in_an_hour = 60\n",
    "\n",
    "# Calculate the total number of minutes in a year\n",
    "total_minutes_in_a_year = days_in_a_year*hours_in_a_day*minutes_in_an_hour\n",
    "print(\"Total minutes in a year: \",total_minutes_in_a_year)"
   ]
  },
  {
   "cell_type": "code",
   "execution_count": 27,
   "id": "3fa103ae-978c-49e1-8179-612ed0b8de67",
   "metadata": {},
   "outputs": [
    {
     "name": "stdin",
     "output_type": "stream",
     "text": [
      "Please enter your name:  Tony\n"
     ]
    },
    {
     "name": "stdout",
     "output_type": "stream",
     "text": [
      "Hi Tony , welcome to python programming :)\n"
     ]
    }
   ],
   "source": [
    "# Exercise 9\n",
    "a = input(\"Please enter your name: \")\n",
    "print(\"Hi\",a,\", welcome to Python Programming :)\")"
   ]
  },
  {
   "cell_type": "code",
   "execution_count": 29,
   "id": "b3f07ca0-0a58-46bc-b036-d6c73079e012",
   "metadata": {},
   "outputs": [
    {
     "name": "stdin",
     "output_type": "stream",
     "text": [
      "Please enter amount in pounds:  100\n"
     ]
    },
    {
     "name": "stdout",
     "output_type": "stream",
     "text": [
      "£ 100.0 are $ 136.00\n"
     ]
    }
   ],
   "source": [
    "# Exercise 10\n",
    "conversion_rate = 1.36\n",
    "pounds = float(input(\"Please enter amount in pounds: \"))\n",
    "dollars = pounds * conversion_rate\n",
    "print(f\"£ {pounds} are $ {dollars:.2f}\")"
   ]
  },
  {
   "cell_type": "code",
   "execution_count": null,
   "id": "723b9e06-4dc4-4e12-8a5e-bbeea372c956",
   "metadata": {},
   "outputs": [],
   "source": []
  }
 ],
 "metadata": {
  "kernelspec": {
   "display_name": "Python [conda env:base] *",
   "language": "python",
   "name": "conda-base-py"
  },
  "language_info": {
   "codemirror_mode": {
    "name": "ipython",
    "version": 3
   },
   "file_extension": ".py",
   "mimetype": "text/x-python",
   "name": "python",
   "nbconvert_exporter": "python",
   "pygments_lexer": "ipython3",
   "version": "3.12.7"
  }
 },
 "nbformat": 4,
 "nbformat_minor": 5
}
