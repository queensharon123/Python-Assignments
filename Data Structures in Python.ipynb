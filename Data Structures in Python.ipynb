{
 "cells": [
  {
   "cell_type": "code",
   "execution_count": 23,
   "id": "204ca6f9-768c-4403-9ead-fe6903aa6476",
   "metadata": {},
   "outputs": [
    {
     "name": "stdout",
     "output_type": "stream",
     "text": [
      "[11, 24, 33, 48, 56]\n",
      "[11, 24, 33, 48, 56, 34, 44, 94]\n",
      "11\n",
      "24\n",
      "33\n",
      "48\n",
      "56\n",
      "34\n",
      "44\n",
      "94\n"
     ]
    }
   ],
   "source": [
    "# LIST\n",
    "# 1\n",
    "num = [11,24,33,48,56]\n",
    "print(num)\n",
    "#2\n",
    "num.append(34)\n",
    "num.append(44)\n",
    "num.append(94)\n",
    "print(num)\n",
    "#3\n",
    "for i in num:\n",
    "   print(i)"
   ]
  },
  {
   "cell_type": "code",
   "execution_count": 39,
   "id": "1483f1f3-859c-44c6-99ce-8e72362cf41b",
   "metadata": {},
   "outputs": [
    {
     "name": "stdout",
     "output_type": "stream",
     "text": [
      "{'Name': 'John', 'Age': 25, 'Address': 'New York'}\n",
      "{'Name': 'John', 'Age': 25, 'Address': 'New York', 'phone': '1234567890'}\n"
     ]
    }
   ],
   "source": [
    "# Dictionary\n",
    "person = {\n",
    "     \"Name\":\"John\",\n",
    "     \"Age\": 25,\n",
    "     \"Address\":\"New York\"\n",
    "}\n",
    "print(person)\n",
    "person[\"phone\"] =\"1234567890\" \n",
    "print(person)\n"
   ]
  },
  {
   "cell_type": "code",
   "execution_count": 45,
   "id": "aa152cf8-aa84-42b5-a7ee-3de3158f209c",
   "metadata": {},
   "outputs": [
    {
     "name": "stdout",
     "output_type": "stream",
     "text": [
      "{1, 2, 3, 4, 5}\n",
      "{1, 2, 3, 4, 5, 6}\n",
      "{1, 2, 4, 5, 6}\n"
     ]
    }
   ],
   "source": [
    "# Set\n",
    "set = {1, 2, 3, 4, 5}\n",
    "print(set)\n",
    "set.add(6)\n",
    "print(set)\n",
    "set.remove(3)\n",
    "print(set)"
   ]
  },
  {
   "cell_type": "code",
   "execution_count": 51,
   "id": "9a2e2db6-d94c-4bf1-afae-4121d2c3ce58",
   "metadata": {},
   "outputs": [
    {
     "name": "stdout",
     "output_type": "stream",
     "text": [
      "(1, 2, 3, 4)\n",
      "4\n"
     ]
    }
   ],
   "source": [
    "# Tuple\n",
    "tuple = (1,2,3,4)\n",
    "print(tuple)\n",
    "print(len(tuple))"
   ]
  },
  {
   "cell_type": "code",
   "execution_count": null,
   "id": "c253feef-318d-4010-b8d0-525529409070",
   "metadata": {},
   "outputs": [],
   "source": []
  }
 ],
 "metadata": {
  "kernelspec": {
   "display_name": "Python [conda env:base] *",
   "language": "python",
   "name": "conda-base-py"
  },
  "language_info": {
   "codemirror_mode": {
    "name": "ipython",
    "version": 3
   },
   "file_extension": ".py",
   "mimetype": "text/x-python",
   "name": "python",
   "nbconvert_exporter": "python",
   "pygments_lexer": "ipython3",
   "version": "3.12.7"
  }
 },
 "nbformat": 4,
 "nbformat_minor": 5
}
